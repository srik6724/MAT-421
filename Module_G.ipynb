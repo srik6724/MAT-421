{
  "nbformat": 4,
  "nbformat_minor": 0,
  "metadata": {
    "colab": {
      "provenance": [],
      "authorship_tag": "ABX9TyO2GCBRFGMA4IcH0pJ37CG+",
      "include_colab_link": true
    },
    "kernelspec": {
      "name": "python3",
      "display_name": "Python 3"
    },
    "language_info": {
      "name": "python"
    }
  },
  "cells": [
    {
      "cell_type": "markdown",
      "metadata": {
        "id": "view-in-github",
        "colab_type": "text"
      },
      "source": [
        "<a href=\"https://colab.research.google.com/github/srik6724/MAT-421/blob/main/Module_G.ipynb\" target=\"_parent\"><img src=\"https://colab.research.google.com/assets/colab-badge.svg\" alt=\"Open In Colab\"/></a>"
      ]
    },
    {
      "cell_type": "markdown",
      "source": [
        "21.1 Numerical Integration Problem Statement"
      ],
      "metadata": {
        "id": "vMno-AzriBFX"
      }
    },
    {
      "cell_type": "markdown",
      "source": [
        "Given function f(x):\n",
        "\n",
        "Approximate the integral over total interval [a,b].\n",
        "\n",
        "Numerical grid consists of n+1 points with spacing h = (b - a)/n.\n",
        "\n",
        "Each point x on the grid equals x_i, where x_0 = a , and x_n = b\n",
        "\n",
        "The subinterval is [x_i, x_i+1]\n",
        "\n",
        "The common numerical Integration = ∫[a,b] f(x)dx"
      ],
      "metadata": {
        "id": "CxnksbL8iGzX"
      }
    },
    {
      "cell_type": "markdown",
      "source": [
        "21.2 Riemann's Integral"
      ],
      "metadata": {
        "id": "N4YlnAnjiNqF"
      }
    },
    {
      "cell_type": "markdown",
      "source": [
        "Riemann Integral - The method for approximating integrals is by summing the area of rectangles that are defined for each subinterval. The width of the rectangle is xi+1−xi=h, and the height is defined by a function value f(x) for some x in the subinterval.\n",
        "\n",
        "∫[a,b] f(x)dx = ∑[n-1, i=0] hf(x_i) or ∑[n, i=1] hf(x_i)\n",
        "\n",
        "(Depending on if left or right endpoint is chosen to measure height)\n",
        "\n",
        "Midpoint Rule - takes the rectangle height of the rectangle at each subinterval to be the function value at the midpoint between x_i and x_i+1, which for compactness we denote by y_i=(x_i+1 + x_i)/2\n",
        "\n",
        "∫[a,b] f(x)dx = ∑[n-1, i=0] hf(y_i) ."
      ],
      "metadata": {
        "id": "b_BLnZwxiQ0u"
      }
    },
    {
      "cell_type": "code",
      "execution_count": 1,
      "metadata": {
        "colab": {
          "base_uri": "https://localhost:8080/"
        },
        "id": "03JzpgsXh58I",
        "outputId": "23ea29b0-04b3-4d34-f6ac-b2e3993616ce"
      },
      "outputs": [
        {
          "output_type": "stream",
          "name": "stdout",
          "text": [
            "0.26179938779914963\n",
            "1.7382006122008504\n",
            "-0.2617993877991492\n",
            "2.261799387799149\n",
            "2.0057230150235816\n",
            "-0.005723015023581635\n"
          ]
        }
      ],
      "source": [
        "\n",
        "#Following is an example of\n",
        "#Use the left Riemann Integral, right Riemann Integral, and Midpoint Rule\n",
        "#to approximate ∫[π, 0] cos(x)dx wtih 13 evenly spaced grid ponts over the whole interval.\n",
        "#Compare this value to the exact value of 2.\n",
        "import numpy as np\n",
        "\n",
        "a = 0\n",
        "b = np.pi\n",
        "n = 13\n",
        "h = (b - a) / (n - 1)\n",
        "x = np.linspace(a, b, n)\n",
        "f = np.cos(x)\n",
        "\n",
        "I_riemannL = h * sum(f[:n-1])\n",
        "err_riemannL = 2 - I_riemannL\n",
        "\n",
        "I_riemannR = h * sum(f[1::])\n",
        "err_riemannR = 2 - I_riemannR\n",
        "\n",
        "I_mid = h * sum(np.sin((x[:n-1] \\\n",
        "        + x[1:])/2))\n",
        "err_mid = 2 - I_mid\n",
        "\n",
        "print(I_riemannL)\n",
        "print(err_riemannL)\n",
        "\n",
        "print(I_riemannR)\n",
        "print(err_riemannR)\n",
        "\n",
        "print(I_mid)\n",
        "print(err_mid)"
      ]
    },
    {
      "cell_type": "markdown",
      "source": [
        "21.3 Trapezoid Rule"
      ],
      "metadata": {
        "id": "u_gPHcCIifz4"
      }
    },
    {
      "cell_type": "markdown",
      "source": [
        "Trapezoid Rule - fits a trapezoid into each subinterval and sums the areas of the trapezoid to approximate the total integral.\n",
        "\n",
        "For each subinterval, the Trapezoid Rule computes the area of a trapezoid with corners at (x_i,0),(x_i+1,0),(x_i,f(x_i)), and (x_i+1,f(x_i+1)), which is h ((f(x_i)+f(x_i+1))/2)\n",
        "\n",
        "∫[a,b] f(x)dx = ∑[n-1, i=0] h (f(x_i) + f(x_i+1))/2"
      ],
      "metadata": {
        "id": "kOYccIUFihmg"
      }
    },
    {
      "cell_type": "code",
      "source": [
        "import numpy as np\n",
        "\n",
        "a = 0\n",
        "b = np.pi\n",
        "n = 13\n",
        "h = (b - a) / (n - 1)\n",
        "x = np.linspace(a, b, n)\n",
        "f = np.cos(x)\n",
        "\n",
        "I_trap = (h/2)*(f[0] + \\\n",
        "          2 * sum(f[1:n-1]) + f[n-1])\n",
        "err_trap = 2 - I_trap\n",
        "\n",
        "print(I_trap)\n",
        "print(err_trap)"
      ],
      "metadata": {
        "colab": {
          "base_uri": "https://localhost:8080/"
        },
        "id": "IJJbyRttijyS",
        "outputId": "9ccece31-e2f9-431f-c1a8-c384c900be71"
      },
      "execution_count": 2,
      "outputs": [
        {
          "output_type": "stream",
          "name": "stdout",
          "text": [
            "2.0345899571717018e-16\n",
            "1.9999999999999998\n"
          ]
        }
      ]
    }
  ]
}