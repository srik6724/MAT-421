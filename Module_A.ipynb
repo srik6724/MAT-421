{
  "nbformat": 4,
  "nbformat_minor": 0,
  "metadata": {
    "colab": {
      "provenance": [],
      "authorship_tag": "ABX9TyPqELPp1DBERyBWAyub0+Nd",
      "include_colab_link": true
    },
    "kernelspec": {
      "name": "python3",
      "display_name": "Python 3"
    },
    "language_info": {
      "name": "python"
    }
  },
  "cells": [
    {
      "cell_type": "markdown",
      "metadata": {
        "id": "view-in-github",
        "colab_type": "text"
      },
      "source": [
        "<a href=\"https://colab.research.google.com/github/srik6724/MAT-421/blob/main/Module_A.ipynb\" target=\"_parent\"><img src=\"https://colab.research.google.com/assets/colab-badge.svg\" alt=\"Open In Colab\"/></a>"
      ]
    },
    {
      "cell_type": "markdown",
      "source": [
        "Base n"
      ],
      "metadata": {
        "id": "QblfZzlylCUL"
      }
    },
    {
      "cell_type": "markdown",
      "source": [
        "Base 10"
      ],
      "metadata": {
        "id": "dFaTdCHDfAA0"
      }
    },
    {
      "cell_type": "code",
      "execution_count": 1,
      "metadata": {
        "colab": {
          "base_uri": "https://localhost:8080/"
        },
        "id": "l3f5gCiCeR7d",
        "outputId": "85bb6ff7-b360-43e1-bc7b-8ab1427f1c26"
      },
      "outputs": [
        {
          "output_type": "execute_result",
          "data": {
            "text/plain": [
              "True"
            ]
          },
          "metadata": {},
          "execution_count": 1
        }
      ],
      "source": [
        "# 77 (Base 10)\n",
        "77 == (7*10**1) + (7*10**0)"
      ]
    },
    {
      "cell_type": "markdown",
      "source": [
        "Base 10 - Use each power of 10 to convert to number"
      ],
      "metadata": {
        "id": "gS_LMOVifIYH"
      }
    },
    {
      "cell_type": "code",
      "source": [
        "96 == (9*10**1) + (6*10**0)"
      ],
      "metadata": {
        "colab": {
          "base_uri": "https://localhost:8080/"
        },
        "id": "bX-H8RWSgdkb",
        "outputId": "3d24fd4e-639a-403e-b070-6ec85997f102"
      },
      "execution_count": 1,
      "outputs": [
        {
          "output_type": "execute_result",
          "data": {
            "text/plain": [
              "True"
            ]
          },
          "metadata": {},
          "execution_count": 1
        }
      ]
    },
    {
      "cell_type": "markdown",
      "source": [
        "Base 3 - Divide 148 / 3 and extract quotient and remainder.\n",
        "\n",
        "148 / 3 = 48\n",
        "Remainder: 1 (1 times 3**0)\n",
        "\n",
        "48 / 3 = 16\n",
        "Remainder: 0 (0 times 3**1)\n",
        "\n",
        "16 / 3 = 5\n",
        "Remainder: 1 (1 times 3**2)\n",
        "\n",
        "5 / 3 = 1\n",
        "Remainder: 2 (2 times 3**3)\n",
        "\n",
        "1 / 3 = 0\n",
        "Remainder: 1 (1 times 3**4)\n",
        "\n",
        "---\n",
        "\n"
      ],
      "metadata": {
        "id": "2bBKXly8gpTo"
      }
    },
    {
      "cell_type": "code",
      "source": [
        "145 == (1 * 3**4) + (2 * 3**3) + (1 * 3**2) + (0 * 3**1) + (1 * 3**0)"
      ],
      "metadata": {
        "colab": {
          "base_uri": "https://localhost:8080/"
        },
        "id": "vFMZS5aMg6EK",
        "outputId": "ad91af1a-4c9b-4a7d-b472-8ad6265c2f38"
      },
      "execution_count": 6,
      "outputs": [
        {
          "output_type": "execute_result",
          "data": {
            "text/plain": [
              "True"
            ]
          },
          "metadata": {},
          "execution_count": 6
        }
      ]
    },
    {
      "cell_type": "markdown",
      "source": [
        "Base 3 equal to Base 10"
      ],
      "metadata": {
        "id": "avvgLsuTiocF"
      }
    },
    {
      "cell_type": "code",
      "source": [
        "(1*3**4) + (2*3**3) + (1*3**2) + (0*3**1) + (1*3**0) == (1*10**2) + (4*10**1) + (5*10**0)"
      ],
      "metadata": {
        "colab": {
          "base_uri": "https://localhost:8080/"
        },
        "id": "0lOuTjFLirrc",
        "outputId": "a2f95736-af34-46fb-f0d3-47831e69e3fa"
      },
      "execution_count": 8,
      "outputs": [
        {
          "output_type": "execute_result",
          "data": {
            "text/plain": [
              "True"
            ]
          },
          "metadata": {},
          "execution_count": 8
        }
      ]
    },
    {
      "cell_type": "markdown",
      "source": [
        "Binary"
      ],
      "metadata": {
        "id": "Ulp7f7Ujk9Tn"
      }
    },
    {
      "cell_type": "markdown",
      "source": [
        "Binary Addition\n",
        "\n",
        "145 + 17 = 162\n",
        "Divide 145 / 2 until quotient is 0.\n",
        "Divide 17 / 2 until quotient is 0.\n",
        "Use remainders from each division multiplied by each power of 2.\n",
        "Since base 2, only digits are 0 and 1."
      ],
      "metadata": {
        "id": "ZSOjQbADlGxw"
      }
    },
    {
      "cell_type": "code",
      "source": [
        "162 == ((1*2**7) + (1*2**4) + (1*2**0)) + ((1*2**4) + (1*2**0))"
      ],
      "metadata": {
        "colab": {
          "base_uri": "https://localhost:8080/"
        },
        "id": "ngxlIcNzlBOw",
        "outputId": "ab4ebbdd-02a9-421b-ca76-008c4938d2af"
      },
      "execution_count": 9,
      "outputs": [
        {
          "output_type": "execute_result",
          "data": {
            "text/plain": [
              "True"
            ]
          },
          "metadata": {},
          "execution_count": 9
        }
      ]
    },
    {
      "cell_type": "markdown",
      "source": [
        "145 * 17 = 2465"
      ],
      "metadata": {
        "id": "ogsM94zNoaCW"
      }
    },
    {
      "cell_type": "code",
      "source": [
        "2465 ==((1*2**7) + (1*2**4) + (1*2**0)) * ((1*2**4) + (1*2**0))"
      ],
      "metadata": {
        "colab": {
          "base_uri": "https://localhost:8080/"
        },
        "id": "ITuzwuStoVj0",
        "outputId": "360f3d5a-00fa-4127-cd2d-09a9fd4afe2b"
      },
      "execution_count": 10,
      "outputs": [
        {
          "output_type": "execute_result",
          "data": {
            "text/plain": [
              "True"
            ]
          },
          "metadata": {},
          "execution_count": 10
        }
      ]
    },
    {
      "cell_type": "markdown",
      "source": [
        "Floating Point Numbers"
      ],
      "metadata": {
        "id": "t7ZlFzqxoliN"
      }
    },
    {
      "cell_type": "markdown",
      "source": [
        "Floating point numbers are separated into 3 parts: the sign indicators, the exponent, and the fraction.\n",
        "\n",
        "The formula for calculating floating point numbers is\n",
        "n = (-1)^s (2^(e-1023)) (1 + f)"
      ],
      "metadata": {
        "id": "zXpGRNhKCqTa"
      }
    },
    {
      "cell_type": "code",
      "source": [
        "# float information\n",
        "import sys\n",
        "sys.float_info"
      ],
      "metadata": {
        "colab": {
          "base_uri": "https://localhost:8080/"
        },
        "id": "WEnV4Andomwk",
        "outputId": "0fcbf49d-7206-4b05-ccc6-72d34208add2"
      },
      "execution_count": 1,
      "outputs": [
        {
          "output_type": "execute_result",
          "data": {
            "text/plain": [
              "sys.float_info(max=1.7976931348623157e+308, max_exp=1024, max_10_exp=308, min=2.2250738585072014e-308, min_exp=-1021, min_10_exp=-307, dig=15, mant_dig=53, epsilon=2.220446049250313e-16, radix=2, rounds=1)"
            ]
          },
          "metadata": {},
          "execution_count": 1
        }
      ]
    },
    {
      "cell_type": "markdown",
      "source": [
        "Finding the gap from one number to the next"
      ],
      "metadata": {
        "id": "X_KCfjyyKivp"
      }
    },
    {
      "cell_type": "code",
      "source": [
        "import numpy as np\n",
        "np.spacing(1e8)"
      ],
      "metadata": {
        "colab": {
          "base_uri": "https://localhost:8080/"
        },
        "id": "jr632bDAKlG9",
        "outputId": "968f12ee-877e-432f-ed58-873dc6e34054"
      },
      "execution_count": 2,
      "outputs": [
        {
          "output_type": "execute_result",
          "data": {
            "text/plain": [
              "1.4901161193847656e-08"
            ]
          },
          "metadata": {},
          "execution_count": 2
        }
      ]
    },
    {
      "cell_type": "code",
      "source": [
        "1e8 == (1e8 + np.spacing(1e8)/3) #veryfing that adding to 1e8 is less than half the gap at 1e8 is the same number"
      ],
      "metadata": {
        "colab": {
          "base_uri": "https://localhost:8080/"
        },
        "id": "o97eD5XYL62B",
        "outputId": "a31a720b-81e3-4a26-df61-491845875008"
      },
      "execution_count": 3,
      "outputs": [
        {
          "output_type": "execute_result",
          "data": {
            "text/plain": [
              "True"
            ]
          },
          "metadata": {},
          "execution_count": 3
        }
      ]
    },
    {
      "cell_type": "markdown",
      "source": [
        "Numbers greater than the largest representable floating point number = inf\n",
        "Numbers smaller than the smallest subnormal number equal 0.0"
      ],
      "metadata": {
        "id": "SODKQ7r_MDxL"
      }
    },
    {
      "cell_type": "code",
      "source": [
        "sys.float_info.max + sys.float_info.max"
      ],
      "metadata": {
        "colab": {
          "base_uri": "https://localhost:8080/"
        },
        "id": "8MxDAi_pMOi_",
        "outputId": "435df143-37d6-4402-e477-4cc8ea4d506b"
      },
      "execution_count": 8,
      "outputs": [
        {
          "output_type": "execute_result",
          "data": {
            "text/plain": [
              "inf"
            ]
          },
          "metadata": {},
          "execution_count": 8
        }
      ]
    },
    {
      "cell_type": "code",
      "source": [
        "2**(-1100)"
      ],
      "metadata": {
        "colab": {
          "base_uri": "https://localhost:8080/"
        },
        "id": "-CvgRBTJMeOW",
        "outputId": "55d96802-0c7f-4159-e9de-ce2c41673d13"
      },
      "execution_count": 14,
      "outputs": [
        {
          "output_type": "execute_result",
          "data": {
            "text/plain": [
              "0.0"
            ]
          },
          "metadata": {},
          "execution_count": 14
        }
      ]
    },
    {
      "cell_type": "markdown",
      "source": [
        "Round-Off Errors"
      ],
      "metadata": {
        "id": "nvjah79GUF_d"
      }
    },
    {
      "cell_type": "code",
      "source": [
        "6.5-4.6 == 1.9"
      ],
      "metadata": {
        "colab": {
          "base_uri": "https://localhost:8080/"
        },
        "id": "zhJ6WgRWUJZc",
        "outputId": "5f72ed4a-078b-452b-ed33-7b902c237e95"
      },
      "execution_count": 2,
      "outputs": [
        {
          "output_type": "execute_result",
          "data": {
            "text/plain": [
              "False"
            ]
          },
          "metadata": {},
          "execution_count": 2
        }
      ]
    },
    {
      "cell_type": "code",
      "source": [
        "6.5-4.6"
      ],
      "metadata": {
        "colab": {
          "base_uri": "https://localhost:8080/"
        },
        "id": "m96DveJUa7hI",
        "outputId": "289763b7-eb01-49ed-aaa1-973b81a2ebb8"
      },
      "execution_count": 3,
      "outputs": [
        {
          "output_type": "execute_result",
          "data": {
            "text/plain": [
              "1.9000000000000004"
            ]
          },
          "metadata": {},
          "execution_count": 3
        }
      ]
    },
    {
      "cell_type": "markdown",
      "source": [
        "We can use round function ro round to number of digits and see whether statement is true or false."
      ],
      "metadata": {
        "id": "4PFd58KzbBGL"
      }
    },
    {
      "cell_type": "code",
      "source": [
        "round(6.5-4.6, 3) == round(1.9, 3)"
      ],
      "metadata": {
        "colab": {
          "base_uri": "https://localhost:8080/"
        },
        "id": "rLwnFJCkbGZL",
        "outputId": "51a088fb-2691-413c-9ebc-a09e109015fb"
      },
      "execution_count": 11,
      "outputs": [
        {
          "output_type": "execute_result",
          "data": {
            "text/plain": [
              "True"
            ]
          },
          "metadata": {},
          "execution_count": 11
        }
      ]
    },
    {
      "cell_type": "markdown",
      "source": [
        "Round off error with sequence of input calcullated, 100, 1000, and 10000 times"
      ],
      "metadata": {
        "id": "nn-vFexgbvDT"
      }
    },
    {
      "cell_type": "code",
      "source": [
        "3 + 3/7 - 3/7"
      ],
      "metadata": {
        "colab": {
          "base_uri": "https://localhost:8080/"
        },
        "id": "-Kv7v_XRbuDc",
        "outputId": "e7e3772b-8c85-4131-fe02-502deff606fe"
      },
      "execution_count": 12,
      "outputs": [
        {
          "output_type": "execute_result",
          "data": {
            "text/plain": [
              "3.0"
            ]
          },
          "metadata": {},
          "execution_count": 12
        }
      ]
    },
    {
      "cell_type": "code",
      "source": [
        "def add_and_subtract(iterations):\n",
        "    result = 3\n",
        "\n",
        "    for i in range(iterations):\n",
        "        result += (3/7)\n",
        "\n",
        "    for i in range(iterations):\n",
        "        result -= (3/7)\n",
        "    return result"
      ],
      "metadata": {
        "id": "OOm5VQS1b5L7"
      },
      "execution_count": 13,
      "outputs": []
    },
    {
      "cell_type": "code",
      "source": [
        "add_and_subtract(100)"
      ],
      "metadata": {
        "colab": {
          "base_uri": "https://localhost:8080/"
        },
        "id": "l_08S-Jyb8nI",
        "outputId": "672112f6-e682-42b3-8951-a2f30d788e6a"
      },
      "execution_count": 14,
      "outputs": [
        {
          "output_type": "execute_result",
          "data": {
            "text/plain": [
              "3.000000000000003"
            ]
          },
          "metadata": {},
          "execution_count": 14
        }
      ]
    },
    {
      "cell_type": "code",
      "source": [
        "add_and_subtract(1000)"
      ],
      "metadata": {
        "colab": {
          "base_uri": "https://localhost:8080/"
        },
        "id": "apNGygHKcEFw",
        "outputId": "1fdb093c-c789-4c2d-9837-b6757860ede5"
      },
      "execution_count": 15,
      "outputs": [
        {
          "output_type": "execute_result",
          "data": {
            "text/plain": [
              "2.999999999999989"
            ]
          },
          "metadata": {},
          "execution_count": 15
        }
      ]
    },
    {
      "cell_type": "code",
      "source": [
        "add_and_subtract(10000)"
      ],
      "metadata": {
        "colab": {
          "base_uri": "https://localhost:8080/"
        },
        "id": "phINUHHjcK_S",
        "outputId": "dc3df3f5-d55b-4365-c74f-3b19fb3486ec"
      },
      "execution_count": 16,
      "outputs": [
        {
          "output_type": "execute_result",
          "data": {
            "text/plain": [
              "3.0000000000002163"
            ]
          },
          "metadata": {},
          "execution_count": 16
        }
      ]
    }
  ]
}