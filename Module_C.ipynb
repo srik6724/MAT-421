{
  "nbformat": 4,
  "nbformat_minor": 0,
  "metadata": {
    "colab": {
      "provenance": [],
      "authorship_tag": "ABX9TyM8oazFS6TMelJFJEM9pB9A",
      "include_colab_link": true
    },
    "kernelspec": {
      "name": "python3",
      "display_name": "Python 3"
    },
    "language_info": {
      "name": "python"
    }
  },
  "cells": [
    {
      "cell_type": "markdown",
      "metadata": {
        "id": "view-in-github",
        "colab_type": "text"
      },
      "source": [
        "<a href=\"https://colab.research.google.com/github/srik6724/MAT-421/blob/main/Module_C.ipynb\" target=\"_parent\"><img src=\"https://colab.research.google.com/assets/colab-badge.svg\" alt=\"Open In Colab\"/></a>"
      ]
    },
    {
      "cell_type": "markdown",
      "source": [
        "19.1 Root Problem Statement\n",
        "\n",
        "The root (zero) of a function, f(xi), is an xi such that f(xi) = 0.\n",
        "Use fsolve function from scipy to compute the root of f(x) = cos(x) - x near -2 and find an existent root for 1/x."
      ],
      "metadata": {
        "id": "d4IuARJyiMDk"
      }
    },
    {
      "cell_type": "code",
      "execution_count": 1,
      "metadata": {
        "colab": {
          "base_uri": "https://localhost:8080/"
        },
        "id": "MZduSoK5iJyg",
        "outputId": "bce1a5ec-5807-4638-851d-1d04241757a5"
      },
      "outputs": [
        {
          "output_type": "stream",
          "name": "stdout",
          "text": [
            "r = [0.73908513]\n",
            "result= [0.]\n"
          ]
        }
      ],
      "source": [
        "import numpy as np\n",
        "from scipy import optimize\n",
        "f = lambda x: np.cos(x) - x\n",
        "r = optimize.fsolve(f, -2)\n",
        "print(\"r =\", r)\n",
        "# Verify the solution is a root\n",
        "result = f(r)\n",
        "print(\"result=\", result)"
      ]
    },
    {
      "cell_type": "code",
      "source": [
        "f = lambda x: 1/x\n",
        "r, infodict, ier, mesg = optimize.fsolve(f, -2, full_output=True)\n",
        "print(\"r =\", r)\n",
        "result = f(r)\n",
        "print(\"result=\", result)\n",
        "print(mesg)"
      ],
      "metadata": {
        "colab": {
          "base_uri": "https://localhost:8080/"
        },
        "id": "tAWhznSOjGDG",
        "outputId": "7c87377d-3896-4331-af5f-7ac77ad9f9fe"
      },
      "execution_count": 2,
      "outputs": [
        {
          "output_type": "stream",
          "name": "stdout",
          "text": [
            "r = [-3.52047359e+83]\n",
            "result= [-2.84052692e-84]\n",
            "The number of calls to function has reached maxfev = 400.\n"
          ]
        }
      ]
    },
    {
      "cell_type": "markdown",
      "source": [
        "19.2 Tolerance"
      ],
      "metadata": {
        "id": "yLsbUxfVkoj3"
      }
    },
    {
      "cell_type": "markdown",
      "source": [
        "Error happens in science and engineering. It is a deviation from an expected or computed value. And telerance is the level of error that is acceptable for an engineering application.\n",
        "\n",
        "We converged to solution when there is a solution with an error smaller than the telorance."
      ],
      "metadata": {
        "id": "H4b7xo4kks1L"
      }
    },
    {
      "cell_type": "markdown",
      "source": [
        "19.3 Bisection Method"
      ],
      "metadata": {
        "id": "thWBNDJpkuDW"
      }
    },
    {
      "cell_type": "markdown",
      "source": [
        "The Intermediate Value Theorem says that if is a continuous function between a and b, and sing(f(a)) != sign(f(b)), then there must be a c, such that a < c < b and f(c) = 0.\n",
        "\n",
        "The bisection method uses the intermediate value theorem iteratively to find roots.\n",
        "\n",
        "Following is an example of bisection method: Program a function my_bisection(f, a, b, tol) that approximates a root r of f, bounded by a and b to within |f((a+b)/2)| < tol."
      ],
      "metadata": {
        "id": "niqfN-CZk0T8"
      }
    },
    {
      "cell_type": "code",
      "source": [
        "\n",
        "import numpy as np\n",
        "\n",
        "def my_bisection(f, a, b, tol):\n",
        "    # approximates a root, R, of f bounded\n",
        "    # by a and b to within tolerance\n",
        "    # | f(m) | < tol with m the midpoint\n",
        "    # between a and b Recursive implementation\n",
        "\n",
        "    # check if a and b bound a root\n",
        "    if np.sign(f(a)) == np.sign(f(b)):\n",
        "        raise Exception(\"The scalars a and b do not bound a root\")\n",
        "\n",
        "    # get midpoint\n",
        "    m = (a + b)/2\n",
        "\n",
        "    if np.abs(f(m)) < tol:\n",
        "        # stopping condition, report m as root\n",
        "        return m\n",
        "    elif np.sign(f(a)) == np.sign(f(m)):\n",
        "        # case where m is an improvement on a.\n",
        "        # Make recursive call with a = m\n",
        "        return my_bisection(f, m, b, tol)\n",
        "    elif np.sign(f(b)) == np.sign(f(m)):\n",
        "        # case where m is an improvement on b.\n",
        "        # Make recursive call with b = m\n",
        "        return my_bisection(f, a, m, tol)\n",
        "\n",
        "f = lambda x: x**2 - 3\n",
        "\n",
        "r1 = my_bisection(f, 0, 2, 0.1)\n",
        "print(\"r1 =\", r1)\n",
        "r01 = my_bisection(f, 0, 2, 0.01)\n",
        "print(\"r01 =\", r01)\n",
        "\n",
        "print(\"f(r1) =\", f(r1))\n",
        "print(\"f(r01) =\", f(r01))"
      ],
      "metadata": {
        "colab": {
          "base_uri": "https://localhost:8080/"
        },
        "id": "FvZH4OHgkzu_",
        "outputId": "3feee0d6-a76d-4057-b05e-4a4875457143"
      },
      "execution_count": 4,
      "outputs": [
        {
          "output_type": "stream",
          "name": "stdout",
          "text": [
            "r1 = 1.75\n",
            "r01 = 1.734375\n",
            "f(r1) = 0.0625\n",
            "f(r01) = 0.008056640625\n"
          ]
        }
      ]
    },
    {
      "cell_type": "markdown",
      "source": [
        "19.4 Newton-Raphson Method"
      ],
      "metadata": {
        "id": "jbXNKqUVloSc"
      }
    },
    {
      "cell_type": "markdown",
      "source": [
        "The Newton-Raphson Method of finding roots iterates Newton steps from\n",
        " until the error is less than the tolerance.\n",
        "\n",
        "Following are two ways to apply Newton-Raphson method to calculate the value compared to the root.\n",
        "\n",
        "The sqrt(2)\n",
        " is the root of the function f(x) x^2 - 2. Using\n",
        " = 1.4 as a starting point, use the equation to estimate\n",
        ". Then compared the value to the sqrt function\n",
        "\n",
        "Write a function newton(f, df, x0, tol), where the output is an estimation of the root of f, f is a function object f(x), df is a function object to f'(x), x0 is an initial guess, and tol is the error tolerance. The error measurement should be |f(x)|. Use my_newton= to compute\n",
        " to within tolerance of 1e-6 starting at x0 = 1.5 ."
      ],
      "metadata": {
        "id": "6LPEfZzelrZM"
      }
    },
    {
      "cell_type": "code",
      "source": [
        "import numpy as np\n",
        "\n",
        "f = lambda x: x**2 - 2\n",
        "f_prime = lambda x: 2*x\n",
        "newton_raphson = 1.4 - (f(1.4))/(f_prime(1.4))\n",
        "\n",
        "print(\"newton_raphson =\", newton_raphson)\n",
        "print(\"sqrt(2) =\", np.sqrt(2))\n",
        "\n",
        "print(\"\")\n",
        "\n",
        "def my_newton(f, df, x0, tol):\n",
        "    if abs(f(x0)) < tol:\n",
        "        return x0\n",
        "    else:\n",
        "        return my_newton(f, df, x0 - f(x0)/df(x0), tol)\n",
        "\n",
        "estimate = my_newton(f, f_prime, 1.5, 1e-6)\n",
        "print(\"estimate =\", estimate)\n",
        "print(\"sqrt(2) =\", np.sqrt(2))"
      ],
      "metadata": {
        "id": "zK6mT3akl5o4"
      },
      "execution_count": null,
      "outputs": []
    },
    {
      "cell_type": "markdown",
      "source": [
        "19.5 Root Finding In Python"
      ],
      "metadata": {
        "id": "3C4Lbt-ym6qj"
      }
    },
    {
      "cell_type": "markdown",
      "source": [
        "Find the root of of x^2 - 150x + 120 using fsolve."
      ],
      "metadata": {
        "id": "mRAM10cUnE1Y"
      }
    },
    {
      "cell_type": "code",
      "source": [
        "\n",
        "from scipy.optimize import fsolve\n",
        "f = lambda x: x**2 - 150*x + 120\n",
        "\n",
        "fsolve(f, [2, 80])"
      ],
      "metadata": {
        "colab": {
          "base_uri": "https://localhost:8080/"
        },
        "id": "IZVmr6kum-Z-",
        "outputId": "34b3279b-256a-442e-b73b-f1acbeb7803e"
      },
      "execution_count": 5,
      "outputs": [
        {
          "output_type": "execute_result",
          "data": {
            "text/plain": [
              "array([  0.80431279, 149.19568721])"
            ]
          },
          "metadata": {},
          "execution_count": 5
        }
      ]
    }
  ]
}